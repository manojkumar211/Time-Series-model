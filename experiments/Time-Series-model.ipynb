{
 "cells": [
  {
   "cell_type": "markdown",
   "id": "8121190e",
   "metadata": {},
   "source": [
    "# Apple Stock:-"
   ]
  },
  {
   "cell_type": "code",
   "execution_count": 1,
   "id": "88f1eb03",
   "metadata": {},
   "outputs": [],
   "source": [
    "import numpy as np\n",
    "import pandas as pd\n",
    "import matplotlib.pyplot as plt\n",
    "import seaborn as sns"
   ]
  },
  {
   "cell_type": "code",
   "execution_count": 2,
   "id": "770604ab",
   "metadata": {},
   "outputs": [],
   "source": [
    "df=pd.read_csv(\"C:/AI&ML Engineer/Projects/Apple/Apple Stock/AirPassengers.csv\")"
   ]
  },
  {
   "cell_type": "code",
   "execution_count": 3,
   "id": "be435e9e",
   "metadata": {},
   "outputs": [
    {
     "data": {
      "text/html": [
       "<div>\n",
       "<style scoped>\n",
       "    .dataframe tbody tr th:only-of-type {\n",
       "        vertical-align: middle;\n",
       "    }\n",
       "\n",
       "    .dataframe tbody tr th {\n",
       "        vertical-align: top;\n",
       "    }\n",
       "\n",
       "    .dataframe thead th {\n",
       "        text-align: right;\n",
       "    }\n",
       "</style>\n",
       "<table border=\"1\" class=\"dataframe\">\n",
       "  <thead>\n",
       "    <tr style=\"text-align: right;\">\n",
       "      <th></th>\n",
       "      <th>Month</th>\n",
       "      <th>Passengers</th>\n",
       "    </tr>\n",
       "  </thead>\n",
       "  <tbody>\n",
       "    <tr>\n",
       "      <th>0</th>\n",
       "      <td>15-01-1949</td>\n",
       "      <td>112</td>\n",
       "    </tr>\n",
       "    <tr>\n",
       "      <th>1</th>\n",
       "      <td>15-02-1949</td>\n",
       "      <td>118</td>\n",
       "    </tr>\n",
       "    <tr>\n",
       "      <th>2</th>\n",
       "      <td>15-03-1949</td>\n",
       "      <td>132</td>\n",
       "    </tr>\n",
       "    <tr>\n",
       "      <th>3</th>\n",
       "      <td>15-04-1949</td>\n",
       "      <td>129</td>\n",
       "    </tr>\n",
       "    <tr>\n",
       "      <th>4</th>\n",
       "      <td>15-05-1949</td>\n",
       "      <td>121</td>\n",
       "    </tr>\n",
       "  </tbody>\n",
       "</table>\n",
       "</div>"
      ],
      "text/plain": [
       "        Month  Passengers\n",
       "0  15-01-1949         112\n",
       "1  15-02-1949         118\n",
       "2  15-03-1949         132\n",
       "3  15-04-1949         129\n",
       "4  15-05-1949         121"
      ]
     },
     "execution_count": 3,
     "metadata": {},
     "output_type": "execute_result"
    }
   ],
   "source": [
    "df.head()"
   ]
  },
  {
   "cell_type": "code",
   "execution_count": 4,
   "id": "302a4230",
   "metadata": {},
   "outputs": [
    {
     "data": {
      "text/html": [
       "<div>\n",
       "<style scoped>\n",
       "    .dataframe tbody tr th:only-of-type {\n",
       "        vertical-align: middle;\n",
       "    }\n",
       "\n",
       "    .dataframe tbody tr th {\n",
       "        vertical-align: top;\n",
       "    }\n",
       "\n",
       "    .dataframe thead th {\n",
       "        text-align: right;\n",
       "    }\n",
       "</style>\n",
       "<table border=\"1\" class=\"dataframe\">\n",
       "  <thead>\n",
       "    <tr style=\"text-align: right;\">\n",
       "      <th></th>\n",
       "      <th>Month</th>\n",
       "      <th>Passengers</th>\n",
       "    </tr>\n",
       "  </thead>\n",
       "  <tbody>\n",
       "    <tr>\n",
       "      <th>139</th>\n",
       "      <td>15-08-1960</td>\n",
       "      <td>606</td>\n",
       "    </tr>\n",
       "    <tr>\n",
       "      <th>140</th>\n",
       "      <td>15-09-1960</td>\n",
       "      <td>508</td>\n",
       "    </tr>\n",
       "    <tr>\n",
       "      <th>141</th>\n",
       "      <td>15-10-1960</td>\n",
       "      <td>461</td>\n",
       "    </tr>\n",
       "    <tr>\n",
       "      <th>142</th>\n",
       "      <td>15-11-1960</td>\n",
       "      <td>390</td>\n",
       "    </tr>\n",
       "    <tr>\n",
       "      <th>143</th>\n",
       "      <td>15-12-1960</td>\n",
       "      <td>432</td>\n",
       "    </tr>\n",
       "  </tbody>\n",
       "</table>\n",
       "</div>"
      ],
      "text/plain": [
       "          Month  Passengers\n",
       "139  15-08-1960         606\n",
       "140  15-09-1960         508\n",
       "141  15-10-1960         461\n",
       "142  15-11-1960         390\n",
       "143  15-12-1960         432"
      ]
     },
     "execution_count": 4,
     "metadata": {},
     "output_type": "execute_result"
    }
   ],
   "source": [
    "df.tail()"
   ]
  },
  {
   "cell_type": "code",
   "execution_count": 5,
   "id": "4c8c2a02",
   "metadata": {},
   "outputs": [
    {
     "data": {
      "text/html": [
       "<div>\n",
       "<style scoped>\n",
       "    .dataframe tbody tr th:only-of-type {\n",
       "        vertical-align: middle;\n",
       "    }\n",
       "\n",
       "    .dataframe tbody tr th {\n",
       "        vertical-align: top;\n",
       "    }\n",
       "\n",
       "    .dataframe thead th {\n",
       "        text-align: right;\n",
       "    }\n",
       "</style>\n",
       "<table border=\"1\" class=\"dataframe\">\n",
       "  <thead>\n",
       "    <tr style=\"text-align: right;\">\n",
       "      <th></th>\n",
       "      <th>Passengers</th>\n",
       "    </tr>\n",
       "  </thead>\n",
       "  <tbody>\n",
       "    <tr>\n",
       "      <th>count</th>\n",
       "      <td>144.000000</td>\n",
       "    </tr>\n",
       "    <tr>\n",
       "      <th>mean</th>\n",
       "      <td>280.298611</td>\n",
       "    </tr>\n",
       "    <tr>\n",
       "      <th>std</th>\n",
       "      <td>119.966317</td>\n",
       "    </tr>\n",
       "    <tr>\n",
       "      <th>min</th>\n",
       "      <td>104.000000</td>\n",
       "    </tr>\n",
       "    <tr>\n",
       "      <th>25%</th>\n",
       "      <td>180.000000</td>\n",
       "    </tr>\n",
       "    <tr>\n",
       "      <th>50%</th>\n",
       "      <td>265.500000</td>\n",
       "    </tr>\n",
       "    <tr>\n",
       "      <th>75%</th>\n",
       "      <td>360.500000</td>\n",
       "    </tr>\n",
       "    <tr>\n",
       "      <th>max</th>\n",
       "      <td>622.000000</td>\n",
       "    </tr>\n",
       "  </tbody>\n",
       "</table>\n",
       "</div>"
      ],
      "text/plain": [
       "       Passengers\n",
       "count  144.000000\n",
       "mean   280.298611\n",
       "std    119.966317\n",
       "min    104.000000\n",
       "25%    180.000000\n",
       "50%    265.500000\n",
       "75%    360.500000\n",
       "max    622.000000"
      ]
     },
     "execution_count": 5,
     "metadata": {},
     "output_type": "execute_result"
    }
   ],
   "source": [
    "df.describe()"
   ]
  },
  {
   "cell_type": "code",
   "execution_count": 6,
   "id": "3b21c615",
   "metadata": {},
   "outputs": [
    {
     "data": {
      "text/plain": [
       "Index(['Month', 'Passengers'], dtype='object')"
      ]
     },
     "execution_count": 6,
     "metadata": {},
     "output_type": "execute_result"
    }
   ],
   "source": [
    "df.columns"
   ]
  },
  {
   "cell_type": "code",
   "execution_count": 7,
   "id": "72134fac",
   "metadata": {},
   "outputs": [
    {
     "data": {
      "text/plain": [
       "Month         0\n",
       "Passengers    0\n",
       "dtype: int64"
      ]
     },
     "execution_count": 7,
     "metadata": {},
     "output_type": "execute_result"
    }
   ],
   "source": [
    "df.isnull().sum()"
   ]
  },
  {
   "cell_type": "code",
   "execution_count": 8,
   "id": "9f3bff33",
   "metadata": {},
   "outputs": [
    {
     "data": {
      "text/plain": [
       "0"
      ]
     },
     "execution_count": 8,
     "metadata": {},
     "output_type": "execute_result"
    }
   ],
   "source": [
    "df.duplicated().sum()"
   ]
  },
  {
   "cell_type": "code",
   "execution_count": 9,
   "id": "ce02b764",
   "metadata": {},
   "outputs": [],
   "source": [
    "df.dropna(axis=0,inplace=True)"
   ]
  },
  {
   "cell_type": "code",
   "execution_count": 10,
   "id": "6bbcc7b2",
   "metadata": {},
   "outputs": [
    {
     "data": {
      "text/plain": [
       "Month         0\n",
       "Passengers    0\n",
       "dtype: int64"
      ]
     },
     "execution_count": 10,
     "metadata": {},
     "output_type": "execute_result"
    }
   ],
   "source": [
    "df.isnull().sum()"
   ]
  },
  {
   "cell_type": "code",
   "execution_count": 12,
   "id": "bdab8d19",
   "metadata": {},
   "outputs": [
    {
     "data": {
      "text/html": [
       "<div>\n",
       "<style scoped>\n",
       "    .dataframe tbody tr th:only-of-type {\n",
       "        vertical-align: middle;\n",
       "    }\n",
       "\n",
       "    .dataframe tbody tr th {\n",
       "        vertical-align: top;\n",
       "    }\n",
       "\n",
       "    .dataframe thead th {\n",
       "        text-align: right;\n",
       "    }\n",
       "</style>\n",
       "<table border=\"1\" class=\"dataframe\">\n",
       "  <thead>\n",
       "    <tr style=\"text-align: right;\">\n",
       "      <th></th>\n",
       "      <th>Passengers</th>\n",
       "    </tr>\n",
       "    <tr>\n",
       "      <th>Month</th>\n",
       "      <th></th>\n",
       "    </tr>\n",
       "  </thead>\n",
       "  <tbody>\n",
       "    <tr>\n",
       "      <th>15-01-1949</th>\n",
       "      <td>112</td>\n",
       "    </tr>\n",
       "    <tr>\n",
       "      <th>15-02-1949</th>\n",
       "      <td>118</td>\n",
       "    </tr>\n",
       "    <tr>\n",
       "      <th>15-03-1949</th>\n",
       "      <td>132</td>\n",
       "    </tr>\n",
       "    <tr>\n",
       "      <th>15-04-1949</th>\n",
       "      <td>129</td>\n",
       "    </tr>\n",
       "    <tr>\n",
       "      <th>15-05-1949</th>\n",
       "      <td>121</td>\n",
       "    </tr>\n",
       "  </tbody>\n",
       "</table>\n",
       "</div>"
      ],
      "text/plain": [
       "            Passengers\n",
       "Month                 \n",
       "15-01-1949         112\n",
       "15-02-1949         118\n",
       "15-03-1949         132\n",
       "15-04-1949         129\n",
       "15-05-1949         121"
      ]
     },
     "execution_count": 12,
     "metadata": {},
     "output_type": "execute_result"
    }
   ],
   "source": [
    "df=df.set_index('Month')\n",
    "df.head()"
   ]
  },
  {
   "cell_type": "code",
   "execution_count": 13,
   "id": "6baace38",
   "metadata": {},
   "outputs": [
    {
     "data": {
      "image/png": "[encoded data removed]",
      "text/plain": [
       "<Figure size 640x480 with 1 Axes>"
      ]
     },
     "metadata": {},
     "output_type": "display_data"
    }
   ],
   "source": [
    "sns.lineplot(x=df.index,y=df['Passengers'])\n",
    "plt.show()"
   ]
  },
  {
   "cell_type": "markdown",
   "id": "0e60301e",
   "metadata": {},
   "source": [
    "# Chesk Stationarity:-"
   ]
  },
  {
   "cell_type": "markdown",
   "id": "a2ad4e8c",
   "metadata": {},
   "source": [
    "## Model-1:- Rolling Statistic"
   ]
  },
  {
   "cell_type": "code",
   "execution_count": 14,
   "id": "e9e59a38",
   "metadata": {},
   "outputs": [
    {
     "data": {
      "text/plain": [
       "Month\n",
       "15-01-1949      NaN\n",
       "15-02-1949    115.0\n",
       "15-03-1949    125.0\n",
       "15-04-1949    130.5\n",
       "15-05-1949    125.0\n",
       "              ...  \n",
       "15-08-1960    614.0\n",
       "15-09-1960    557.0\n",
       "15-10-1960    484.5\n",
       "15-11-1960    425.5\n",
       "15-12-1960    411.0\n",
       "Name: Passengers, Length: 144, dtype: float64"
      ]
     },
     "execution_count": 14,
     "metadata": {},
     "output_type": "execute_result"
    }
   ],
   "source": [
    "df['Passengers'].rolling(window=2).mean()"
   ]
  },
  {
   "cell_type": "code",
   "execution_count": 15,
   "id": "126f61fd",
   "metadata": {},
   "outputs": [
    {
     "data": {
      "text/plain": [
       "Month\n",
       "15-01-1949          NaN\n",
       "15-02-1949     4.242641\n",
       "15-03-1949     9.899495\n",
       "15-04-1949     2.121320\n",
       "15-05-1949     5.656854\n",
       "                ...    \n",
       "15-08-1960    11.313708\n",
       "15-09-1960    69.296465\n",
       "15-10-1960    33.234019\n",
       "15-11-1960    50.204581\n",
       "15-12-1960    29.698485\n",
       "Name: Passengers, Length: 144, dtype: float64"
      ]
     },
     "execution_count": 15,
     "metadata": {},
     "output_type": "execute_result"
    }
   ],
   "source": [
    "df['Passengers'].rolling(window=2).std()"
   ]
  },
  {
   "cell_type": "code",
   "execution_count": 17,
   "id": "e256f500",
   "metadata": {},
   "outputs": [
    {
     "data": {
      "image/png": "[encoded data removed]",
      "text/plain": [
       "<Figure size 640x480 with 1 Axes>"
      ]
     },
     "metadata": {},
     "output_type": "display_data"
    }
   ],
   "source": [
    "role_mean=df['Passengers'].rolling(window=2).mean()\n",
    "role_std=df['Passengers'].rolling(window=2).std()\n",
    "\n",
    "orig=plt.plot(df['Passengers'],color='blue',label=\"Original\")\n",
    "r_mean=plt.plot(role_mean,color='red',label='Rolling Mean')\n",
    "r_std=plt.plot(role_std,color='black',label='Rolling Std')\n",
    "plt.xticks(ticks=df.index)\n",
    "plt.title('Rolling Mean & Std')\n",
    "plt.legend()\n",
    "plt.show()"
   ]
  },
  {
   "cell_type": "markdown",
   "id": "55baed41",
   "metadata": {},
   "source": [
    "# Augmented Dicky Fuller Test:-"
   ]
  },
  {
   "cell_type": "code",
   "execution_count": 18,
   "id": "cd4e2a68",
   "metadata": {},
   "outputs": [],
   "source": [
    "from statsmodels.tsa.stattools import adfuller"
   ]
  },
  {
   "cell_type": "code",
   "execution_count": 19,
   "id": "c590d427",
   "metadata": {},
   "outputs": [
    {
     "data": {
      "text/plain": [
       "(0.8153688792060352,\n",
       " 0.9918802434376408,\n",
       " 13,\n",
       " 130,\n",
       " {'1%': -3.4816817173418295,\n",
       "  '5%': -2.8840418343195267,\n",
       "  '10%': -2.578770059171598},\n",
       " 996.692930839019)"
      ]
     },
     "execution_count": 19,
     "metadata": {},
     "output_type": "execute_result"
    }
   ],
   "source": [
    "adfuller_result=adfuller(df['Passengers'])\n",
    "adfuller_result"
   ]
  },
  {
   "cell_type": "code",
   "execution_count": 20,
   "id": "97b3cce1",
   "metadata": {},
   "outputs": [
    {
     "name": "stdout",
     "output_type": "stream",
     "text": [
      "P-value : 0.9918802434376408\n"
     ]
    }
   ],
   "source": [
    "print(\"P-value :\",adfuller_result[1])"
   ]
  },
  {
   "cell_type": "markdown",
   "id": "55886376",
   "metadata": {},
   "source": [
    "## Differencing:-"
   ]
  },
  {
   "cell_type": "code",
   "execution_count": 23,
   "id": "ea0be6d7",
   "metadata": {},
   "outputs": [
    {
     "data": {
      "text/plain": [
       "Month\n",
       "15-03-1949     20.0\n",
       "15-04-1949     11.0\n",
       "15-05-1949    -11.0\n",
       "15-06-1949      6.0\n",
       "15-07-1949     27.0\n",
       "              ...  \n",
       "15-08-1960     71.0\n",
       "15-09-1960   -114.0\n",
       "15-10-1960   -145.0\n",
       "15-11-1960   -118.0\n",
       "15-12-1960    -29.0\n",
       "Name: Passengers, Length: 142, dtype: float64"
      ]
     },
     "execution_count": 23,
     "metadata": {},
     "output_type": "execute_result"
    }
   ],
   "source": [
    "diff=df['Passengers']-df['Passengers'].shift(2)\n",
    "diff.dropna(inplace=True)\n",
    "diff"
   ]
  },
  {
   "cell_type": "code",
   "execution_count": 24,
   "id": "6706c0b8",
   "metadata": {},
   "outputs": [
    {
     "data": {
      "text/plain": [
       "(-2.9616951355554404,\n",
       " 0.0386297576769867,\n",
       " 11,\n",
       " 130,\n",
       " {'1%': -3.4816817173418295,\n",
       "  '5%': -2.8840418343195267,\n",
       "  '10%': -2.578770059171598},\n",
       " 985.7309222414162)"
      ]
     },
     "execution_count": 24,
     "metadata": {},
     "output_type": "execute_result"
    }
   ],
   "source": [
    "adfuller_result=adfuller(diff)\n",
    "adfuller_result"
   ]
  },
  {
   "cell_type": "code",
   "execution_count": 25,
   "id": "244ac514",
   "metadata": {},
   "outputs": [
    {
     "name": "stdout",
     "output_type": "stream",
     "text": [
      "P-value : 0.0386297576769867\n"
     ]
    }
   ],
   "source": [
    "print(\"P-value :\",adfuller_result[1])"
   ]
  },
  {
   "cell_type": "code",
   "execution_count": 35,
   "id": "8b9fbf79",
   "metadata": {},
   "outputs": [],
   "source": [
    "y_train=diff[:114]\n",
    "y_test=diff[114:]"
   ]
  },
  {
   "cell_type": "code",
   "execution_count": 36,
   "id": "229be257",
   "metadata": {},
   "outputs": [
    {
     "data": {
      "text/plain": [
       "Month\n",
       "15-03-1949     20.0\n",
       "15-04-1949     11.0\n",
       "15-05-1949    -11.0\n",
       "15-06-1949      6.0\n",
       "15-07-1949     27.0\n",
       "              ...  \n",
       "15-04-1958     30.0\n",
       "15-05-1958      1.0\n",
       "15-06-1958     87.0\n",
       "15-07-1958    128.0\n",
       "15-08-1958     70.0\n",
       "Name: Passengers, Length: 114, dtype: float64"
      ]
     },
     "execution_count": 36,
     "metadata": {},
     "output_type": "execute_result"
    }
   ],
   "source": [
    "y_train"
   ]
  },
  {
   "cell_type": "code",
   "execution_count": 37,
   "id": "330d8760",
   "metadata": {},
   "outputs": [
    {
     "data": {
      "text/plain": [
       "Month\n",
       "15-09-1958    -87.0\n",
       "15-10-1958   -146.0\n",
       "15-11-1958    -94.0\n",
       "15-12-1958    -22.0\n",
       "15-01-1959     50.0\n",
       "15-02-1959      5.0\n",
       "15-03-1959     46.0\n",
       "15-04-1959     54.0\n",
       "15-05-1959     14.0\n",
       "15-06-1959     76.0\n",
       "15-07-1959    128.0\n",
       "15-08-1959     87.0\n",
       "15-09-1959    -85.0\n",
       "15-10-1959   -152.0\n",
       "15-11-1959   -101.0\n",
       "15-12-1959     -2.0\n",
       "15-01-1960     55.0\n",
       "15-02-1960    -14.0\n",
       "15-03-1960      2.0\n",
       "15-04-1960     70.0\n",
       "15-05-1960     53.0\n",
       "15-06-1960     74.0\n",
       "15-07-1960    150.0\n",
       "15-08-1960     71.0\n",
       "15-09-1960   -114.0\n",
       "15-10-1960   -145.0\n",
       "15-11-1960   -118.0\n",
       "15-12-1960    -29.0\n",
       "Name: Passengers, dtype: float64"
      ]
     },
     "execution_count": 37,
     "metadata": {},
     "output_type": "execute_result"
    }
   ],
   "source": [
    "y_test"
   ]
  },
  {
   "cell_type": "markdown",
   "id": "955411ff",
   "metadata": {},
   "source": [
    "# Check ACF & PACF:-"
   ]
  },
  {
   "cell_type": "code",
   "execution_count": 38,
   "id": "ba73df0b",
   "metadata": {},
   "outputs": [],
   "source": [
    "from statsmodels.tsa.stattools import acf,pacf\n",
    "import statsmodels.api as sm"
   ]
  },
  {
   "cell_type": "code",
   "execution_count": 39,
   "id": "f535dbc0",
   "metadata": {},
   "outputs": [
    {
     "data": {
      "image/png": "[encoded data removed]",
      "text/plain": [
       "<Figure size 640x480 with 1 Axes>"
      ]
     },
     "metadata": {},
     "output_type": "display_data"
    },
    {
     "data": {
      "image/png": "[encoded data removed]",
      "text/plain": [
       "<Figure size 640x480 with 1 Axes>"
      ]
     },
     "metadata": {},
     "output_type": "display_data"
    }
   ],
   "source": [
    "fig=sm.graphics.tsa.plot_acf(diff,lags=40)\n",
    "fig=sm.graphics.tsa.plot_pacf(diff,lags=40)"
   ]
  },
  {
   "cell_type": "code",
   "execution_count": 40,
   "id": "ca5b68c2",
   "metadata": {},
   "outputs": [],
   "source": [
    "from statsmodels.tsa.arima.model import ARIMA\n",
    "import warnings\n",
    "warnings.simplefilter('ignore')"
   ]
  },
  {
   "cell_type": "code",
   "execution_count": 41,
   "id": "61d4e93c",
   "metadata": {},
   "outputs": [
    {
     "name": "stdout",
     "output_type": "stream",
     "text": [
      "Test R2 value : 0.9658014538552823\n",
      "Train R2 value : 0.9381774545067887\n"
     ]
    }
   ],
   "source": [
    "arima_model=ARIMA(diff,order=(11,0,12))\n",
    "arima=arima_model.fit()\n",
    "y_pre_test=arima.predict(start=y_test.index[0],end=y_test.index[-1])\n",
    "y_pre_train=arima.predict(start=y_train.index[0],end=y_train.index[-1])\n",
    "from sklearn.metrics import r2_score\n",
    "print('Test R2 value :',r2_score(y_pre_test,y_test))\n",
    "print('Train R2 value :',r2_score(y_pre_train,y_train))"
   ]
  },
  {
   "cell_type": "code",
   "execution_count": null,
   "id": "14c1b728",
   "metadata": {},
   "outputs": [],
   "source": []
  }
 ],
 "metadata": {
  "kernelspec": {
   "display_name": "Python 3 (ipykernel)",
   "language": "python",
   "name": "python3"
  },
  "language_info": {
   "codemirror_mode": {
    "name": "ipython",
    "version": 3
   },
   "file_extension": ".py",
   "mimetype": "text/x-python",
   "name": "python",
   "nbconvert_exporter": "python",
   "pygments_lexer": "ipython3",
   "version": "3.9.19"
  }
 },
 "nbformat": 4,
 "nbformat_minor": 5
}
